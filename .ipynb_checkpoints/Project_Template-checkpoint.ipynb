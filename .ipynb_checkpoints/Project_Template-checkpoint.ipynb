{
 "cells": [
  {
   "cell_type": "markdown",
   "id": "b05ce2ef",
   "metadata": {},
   "source": [
    "<img src=\"https://raw.githubusercontent.com/Kmilo29/repository/main/images/encabezado.png?token=GHSAT0AAAAAACGZ4SV7A5ZP2A6F44V6YKH4ZIVQPOQ\" ><br>\n",
    "\n",
    "# **MINE-4101: Ciencia de Datos Aplicada**\n",
    "## **Universidad de los Andes**\n",
    "Segundo Semestre - 2023\n",
    "\n",
    "\n",
    "## **Estudiante**\n",
    "\n",
    "*   nombre"
   ]
  },
  {
   "cell_type": "markdown",
   "id": "8d06b01d",
   "metadata": {},
   "source": [
    "# **ENTREGA nombre de la entrega** \n",
    "\n",
    "## **Tema**\n",
    "\n",
    "\n",
    "### **Contexto de negocio:** titulo del problema\n",
    "\n",
    "Descripción del contexto de negocio"
   ]
  },
  {
   "cell_type": "markdown",
   "id": "ac5f6c72",
   "metadata": {},
   "source": [
    "## **Objectivos**\n",
    "\n",
    "Descripción del contexto de negocio"
   ]
  },
  {
   "cell_type": "markdown",
   "id": "0238e0b8",
   "metadata": {},
   "source": [
    "## **Dataset seleccionado**\n",
    "\n",
    "descripcion del dataset\n",
    "\n",
    "**Fuente de Datos**: Fuente. [[dataset](www.google.com) | [dictionary](www.google.com)]."
   ]
  },
  {
   "cell_type": "markdown",
   "id": "f2c28220",
   "metadata": {},
   "source": [
    "## **1. Entendimiento de los datos**\n",
    "\n",
    "Genere un breve reporte de entendimiento de datos en donde destaque las dimensiones del dataset, los tipos de datos que contiene y el top 5 de los indicadores que considera más importantes para el ejercicio de regresión propuesto. Por cada indicador, incluya algunos elementos básicos de su comportamiento o distribución (análisis univariado). También incluya algunos elementos complementarios que permitan entender la relación entre pares de indicadores, el país o la región a la que pertenecen (análisis bivariado)."
   ]
  },
  {
   "cell_type": "markdown",
   "id": "49a8ccc4",
   "metadata": {},
   "source": [
    "### **Obtener los datos**\n",
    "\n",
    "**Importar las librerías requeridas**"
   ]
  },
  {
   "cell_type": "code",
   "execution_count": 2,
   "id": "2c244e7b",
   "metadata": {},
   "outputs": [],
   "source": [
    "# Data management Libraries\n",
    "import pandas as pd\n",
    "import numpy as np\n",
    "\n",
    "# Data visualization Libraries\n",
    "import matplotlib.pyplot as plt\n",
    "import seaborn as sns\n",
    "\n",
    "# Utils\n",
    "from pycountry_convert import country_alpha2_to_continent_code, country_name_to_country_alpha2"
   ]
  },
  {
   "cell_type": "markdown",
   "id": "53079f34",
   "metadata": {},
   "source": [
    "**Lectura de los datos**"
   ]
  },
  {
   "cell_type": "code",
   "execution_count": null,
   "id": "da754113",
   "metadata": {},
   "outputs": [],
   "source": [
    "# Pandas configuration for extending the number of columns and rows to show\n",
    "pd.set_option(\"display.max_columns\", None)\n",
    "pd.set_option(\"display.max_rows\", 100)"
   ]
  },
  {
   "cell_type": "code",
   "execution_count": 8,
   "id": "5f7fa74f",
   "metadata": {},
   "outputs": [],
   "source": [
    "# DataFrame \n",
    "dataframe = pd.read_csv('ruta')"
   ]
  },
  {
   "cell_type": "code",
   "execution_count": 9,
   "id": "0cf58996",
   "metadata": {},
   "outputs": [],
   "source": [
    "# Data visualization\n",
    "dataframe.head()"
   ]
  },
  {
   "cell_type": "markdown",
   "id": "47824257",
   "metadata": {},
   "source": [
    "### **Diccionario de Datos**\n",
    "\n",
    "| Campo                 | Descripción                                                                                                         |\n",
    "|:----------------------|:--------------------------------------------------------------------------------------------------------------------|\n",
    "| country               | Identificador único del país                                                                                      |\n",
    "| incomeperperson       | Producto Interno Bruto (PIB) per cápita en el año 2010 en dólares estadounidenses constantes de 2000. Se ha tenido en cuenta la inflación pero no las diferencias en el costo de vida entre países. |\n",
    "| alcconsumption        | Consumo de alcohol por adulto en el año 2008 (edad 15+), en litros. Consumo promedio registrado y estimado de alcohol por adulto (15+) per cápita en litros de alcohol puro.          |\n",
    "| armedforcesrate       | Personal de las fuerzas armadas (% del total de la fuerza laboral)                                                  |\n",
    "| breastcancerper100TH | Nuevos casos de cáncer de mama en el año 2002 por cada 100,000 mujeres. Número de nuevos casos de cáncer de mama por cada 100,000 mujeres residentes durante un año determinado.    |\n",
    "| co2emissions          | Emisiones acumuladas de CO2 en el año 2006 (toneladas métricas). Cantidad total de emisiones de CO2 en toneladas métricas desde 1751.                          |\n",
    "| femaleemployrate      | Empleo de mujeres en el año 2007 (% de la población). Porcentaje de la población femenina mayor de 15 años que ha estado empleada durante el año dado.                      |\n",
    "| HIVrate               | Prevalencia estimada del VIH en el año 2009 (% de la población de 15 a 49 años). Número estimado de personas que viven con VIH por cada 100 habitantes en el grupo de edad de 15 a 49 años. |\n",
    "| Internetuserate       | Usuarios de Internet en el año 2010 (por cada 100 personas). Usuarios de Internet son personas con acceso a la red mundial. |\n",
    "| lifeexpectancy        | Esperanza de vida al nacer en el año 2011 (años). Promedio de años que viviría un recién nacido si los patrones de mortalidad actuales se mantuvieran iguales. |\n",
    "| oilperperson          | Consumo de petróleo per cápita en el año 2010 (toneladas por año y persona). |\n",
    "| polityscore           | Puntaje de democracia en el año 2009 (Polity). Puntaje general de polidad del conjunto de datos Polity IV, calculado restando un puntaje de autocracia de un puntaje de democracia. La medida resumida de la naturaleza democrática y libre de un país. -10 es el valor más bajo, 10 es el más alto. |\n",
    "| relectricperperson    | Consumo de electricidad residencial per cápita en el año 2008 (kWh). Cantidad de consumo de electricidad residencial por persona durante el año dado, medido en kilovatios-hora (kWh). |\n",
    "| suicideper100TH       | Tasa de suicidio, ajustada por edad, por cada 100,000 personas. Mortalidad debida a lesiones autoinfligidas, por cada 100,000 habitantes de una población estándar, ajustada por edad. |\n",
    "| employrate            | Empleo total de personas mayores de 15 años en el año 2007 (% de la población). Porcentaje de la población total mayor de 15 años que ha estado empleada durante el año dado. |\n",
    "| urbanrate             | Población urbana (% del total). Población urbana se refiere a las personas que viven en áreas urbanas según la definición de las oficinas nacionales de estadística (calculado utilizando estimaciones de población del Banco Mundial y proporciones urbanas de las Perspectivas de Urbanización Mundial de las Naciones Unidas). |"
   ]
  },
  {
   "cell_type": "markdown",
   "id": "4e8834a4",
   "metadata": {},
   "source": [
    "### **Análisis inicial de los datos (REPORTE)**"
   ]
  },
  {
   "cell_type": "markdown",
   "id": "b96a251b",
   "metadata": {},
   "source": [
    "**Dimensiones del dataset**\n",
    "\n",
    "Con la propiedad **shape** del dataframe visualizamos las dimensiones del dataset:"
   ]
  },
  {
   "cell_type": "code",
   "execution_count": null,
   "id": "d1f9afce",
   "metadata": {},
   "outputs": [],
   "source": [
    "dataframe.shape"
   ]
  },
  {
   "cell_type": "markdown",
   "id": "a79d40e5",
   "metadata": {},
   "source": [
    "X registros y X atributos."
   ]
  },
  {
   "cell_type": "markdown",
   "id": "81996b92",
   "metadata": {},
   "source": [
    "**Tipos de dato del dataset**\n",
    "\n",
    "Podemos hacer uso del método **info()** del dataframe el cual nos proporciona información más detallada de los datos cargados. Esta información nos ayuda a identificar algunas características iniciales, por ejemplo el tipo de dato, si el campo tiene dato o tiene valor null y finalmente el peso total del dataset en memoria."
   ]
  },
  {
   "cell_type": "code",
   "execution_count": null,
   "id": "ec0b990a",
   "metadata": {},
   "outputs": [],
   "source": [
    "# Showing dataframe information\n",
    "dataframe.info()"
   ]
  },
  {
   "cell_type": "markdown",
   "id": "5d20111f",
   "metadata": {},
   "source": [
    "### **Matriz de correlación**"
   ]
  },
  {
   "cell_type": "code",
   "execution_count": null,
   "id": "1a153808",
   "metadata": {},
   "outputs": [],
   "source": [
    "correlacion = dataframe.corr()\n",
    "\n",
    "plt.figure(figsize=(12, 8))\n",
    "sns.heatmap(correlacion, annot=True, cmap='coolwarm', linewidths=.5)\n",
    "plt.title('Heatmap de Correlación')\n",
    "plt.show()"
   ]
  },
  {
   "cell_type": "markdown",
   "id": "748f158c",
   "metadata": {},
   "source": [
    "### **Top 5 indicadores más importantes para el ejercicio de regresión**\n",
    "\n",
    "Hacemos uso de la información obtenida anteriormente y también del diccionario de datos para identificar el top 5 de los indicadores que se consideran más importantes para el ejercicio de regresión. Estos indicadores se seleccionaron debido a su relevancia potencial para explicar las variaciones en el PIB per cápita y su relación con el desarrollo económico y social. Para este caso se seleccionaron los siguientes:\n",
    "\n",
    "\n",
    "\n",
    "#### **Variables Cuantitativas**\n",
    "\n",
    "**Continuas**\n",
    "\n",
    "- **Internetuserate (Tasa de Usuarios de Internet):** Representa el acceso y la conectividad a Internet, lo que está relacionado con el desarrollo tecnológico y la información disponible para la población. Un mayor acceso a Internet se asocia generalmente con un mayor desarrollo económico.<br><br>\n",
    "\n",
    "- **Lifeexpectancy (Esperanza de Vida):** Este atributo refleja la calidad de vida, el acceso a servicios de salud y el bienestar general de la población. Países con una esperanza de vida más alta suelen tener mejores condiciones económicas y sociales.<br><br>\n",
    "\n",
    "- **Employrate (Tasa de Empleo Total):** Indica la proporción de la población económicamente activa que está empleada. El empleo es fundamental para el desarrollo económico y el bienestar de la población, por lo que se espera que este atributo influya en el PIB per cápita.<br><br>\n",
    "\n",
    "- **Urbanrate (Tasa de Población Urbana):** La urbanización está relacionada con el desarrollo económico y la infraestructura. Países con una alta tasa de población urbana tienden a tener una mayor actividad económica en sus áreas urbanas, lo que puede influir en el PIB per cápita.<br><br>\n",
    "\n",
    "\n",
    "**Discretas**\n",
    "\n",
    "- **polityscore (puntuación política)**: Es un indicador importante para comprender la calidad y la naturaleza de la gobernanza en un país. Puede ser utilizado para analizar la estabilidad política y evaluar la relación entre la democracia y el desarrollo económico.\n"
   ]
  },
  {
   "cell_type": "code",
   "execution_count": null,
   "id": "68ff867a",
   "metadata": {},
   "outputs": [],
   "source": []
  },
  {
   "cell_type": "code",
   "execution_count": null,
   "id": "45100d6a",
   "metadata": {},
   "outputs": [],
   "source": []
  },
  {
   "cell_type": "code",
   "execution_count": null,
   "id": "0310ea87",
   "metadata": {},
   "outputs": [],
   "source": []
  },
  {
   "cell_type": "code",
   "execution_count": null,
   "id": "e5bbd34a",
   "metadata": {},
   "outputs": [],
   "source": []
  },
  {
   "cell_type": "code",
   "execution_count": null,
   "id": "a9ab5ee5",
   "metadata": {},
   "outputs": [],
   "source": []
  },
  {
   "cell_type": "code",
   "execution_count": null,
   "id": "fdf0e837",
   "metadata": {},
   "outputs": [],
   "source": []
  },
  {
   "cell_type": "code",
   "execution_count": null,
   "id": "1f2cd1f8",
   "metadata": {},
   "outputs": [],
   "source": []
  }
 ],
 "metadata": {
  "kernelspec": {
   "display_name": "Python 3 (ipykernel)",
   "language": "python",
   "name": "python3"
  },
  "language_info": {
   "codemirror_mode": {
    "name": "ipython",
    "version": 3
   },
   "file_extension": ".py",
   "mimetype": "text/x-python",
   "name": "python",
   "nbconvert_exporter": "python",
   "pygments_lexer": "ipython3",
   "version": "3.9.13"
  }
 },
 "nbformat": 4,
 "nbformat_minor": 5
}
